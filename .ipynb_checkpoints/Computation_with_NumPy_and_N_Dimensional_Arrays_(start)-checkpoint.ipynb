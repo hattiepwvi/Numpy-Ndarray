{
 "cells": [
  {
   "cell_type": "markdown",
   "metadata": {
    "id": "t72p7Wvp8fKU"
   },
   "source": [
    "# Introduction\n",
    "\n",
    "In this notebook we'll learn how to use NumPy to work with numerical data. \n",
    "\n",
    "<img src=\"https://i.imgur.com/dZ1XE9o.png\" width=400>"
   ]
  },
  {
   "cell_type": "markdown",
   "metadata": {
    "id": "3j24xcmN8s1a"
   },
   "source": [
    "# Import Statements"
   ]
  },
  {
   "cell_type": "code",
   "execution_count": 28,
   "metadata": {
    "id": "b9YJCGC_8mhB"
   },
   "outputs": [
    {
     "data": {
      "text/plain": [
       "(4,)"
      ]
     },
     "execution_count": 28,
     "metadata": {},
     "output_type": "execute_result"
    }
   ],
   "source": [
    "import numpy as np\n",
    "from numpy.random import random\n",
    "\n",
    "import matplotlib.pyplot as plt\n",
    "from scipy import misc # contains an image of a racoon!\n",
    "from PIL import Image # for reading image files\n",
    "\n",
    "my_array = np.array([1.1, 9.2, 8.1, 4.7])\n",
    "my_array.shape"
   ]
  },
  {
   "cell_type": "markdown",
   "metadata": {
    "id": "8vsW1z6o9RWD"
   },
   "source": [
    "# Understanding NumPy's ndarray\n",
    "\n",
    "NumPy's most amazing feature is the **powerful** ndarray.\n",
    "\n",
    "<img src=\"https://i.imgur.com/1IUqnxX.png\" width=200>"
   ]
  },
  {
   "cell_type": "markdown",
   "metadata": {
    "id": "d5g_jUKBAILK"
   },
   "source": [
    "#### 1-Dimensional Arrays (Vectors)"
   ]
  },
  {
   "cell_type": "code",
   "execution_count": 2,
   "metadata": {
    "id": "ITaA6vmejMNF"
   },
   "outputs": [
    {
     "data": {
      "text/plain": [
       "8.1"
      ]
     },
     "execution_count": 2,
     "metadata": {},
     "output_type": "execute_result"
    }
   ],
   "source": [
    "my_array[2]"
   ]
  },
  {
   "cell_type": "code",
   "execution_count": 3,
   "metadata": {
    "id": "Tq5KrExnjNn0"
   },
   "outputs": [
    {
     "data": {
      "text/plain": [
       "1"
      ]
     },
     "execution_count": 3,
     "metadata": {},
     "output_type": "execute_result"
    }
   ],
   "source": [
    "my_array.ndim"
   ]
  },
  {
   "cell_type": "markdown",
   "metadata": {
    "id": "nZ8D4yr8ALzn"
   },
   "source": [
    "#### 2-Dimensional Arrays (Matrices)"
   ]
  },
  {
   "cell_type": "code",
   "execution_count": 4,
   "metadata": {
    "id": "97iTilPTAGpm"
   },
   "outputs": [],
   "source": [
    "array_2d = np.array([[1, 2, 3, 9], \n",
    "                     [5, 6, 7, 8]])"
   ]
  },
  {
   "cell_type": "code",
   "execution_count": 5,
   "metadata": {
    "id": "885B89_IjFWr"
   },
   "outputs": [
    {
     "name": "stdout",
     "output_type": "stream",
     "text": [
      "array_2d has 2 dimensions\n",
      "Its shape is (2, 4)\n",
      "It has 2 rows and 4 columns\n",
      "[[1 2 3 9]\n",
      " [5 6 7 8]]\n"
     ]
    },
    {
     "data": {
      "text/plain": [
       "7"
      ]
     },
     "execution_count": 5,
     "metadata": {},
     "output_type": "execute_result"
    }
   ],
   "source": [
    "print(f'array_2d has {array_2d.ndim} dimensions')\n",
    "print(f'Its shape is {array_2d.shape}')\n",
    "print(f'It has {array_2d.shape[0]} rows and {array_2d.shape[1]} columns')\n",
    "print(array_2d)\n",
    "array_2d[1,2]"
   ]
  },
  {
   "cell_type": "markdown",
   "metadata": {
    "id": "IxEF8DdRBHn5"
   },
   "source": [
    "#### N-Dimensional Arrays (Tensors)\n",
    "\n",
    "**Challenge**: \n",
    "* How many dimensions does the array below have? \n",
    "* What is its shape (i.e., how many elements are along each axis)?\n",
    "* Try to access the value `18` in the last line of code.\n",
    "* Try to retrieve a 1 dimensional vector with the values `[97, 0, 27, 18]`\n",
    "* Try to retrieve a (3,2) matrix with the values `[[ 0,  4], [ 7,  5], [ 5, 97]]`\n",
    "\n",
    "*Hint*: You can use the `:` operator just as with Python Lists."
   ]
  },
  {
   "cell_type": "code",
   "execution_count": 6,
   "metadata": {
    "id": "2ROMzYaxAgXC"
   },
   "outputs": [],
   "source": [
    "mystery_array = np.array([[[0, 1, 2, 3],\n",
    "                           [4, 5, 6, 7]],\n",
    "                        \n",
    "                         [[7, 86, 6, 98],\n",
    "                          [5, 1, 0, 4]],\n",
    "                          \n",
    "                          [[5, 36, 32, 48],\n",
    "                           [97, 0, 27, 18]]])\n",
    "\n",
    "# Note all the square brackets!"
   ]
  },
  {
   "cell_type": "code",
   "execution_count": 7,
   "metadata": {
    "id": "s3-I3tYSjC1R"
   },
   "outputs": [
    {
     "name": "stdout",
     "output_type": "stream",
     "text": [
      "We have 3 dimensions\n",
      "The shape is (3, 2, 4)\n"
     ]
    }
   ],
   "source": [
    "print(f'We have {mystery_array.ndim} dimensions')\n",
    "print(f'The shape is {mystery_array.shape}')"
   ]
  },
  {
   "cell_type": "code",
   "execution_count": 8,
   "metadata": {
    "id": "AvUs5gRPjDIT"
   },
   "outputs": [
    {
     "data": {
      "text/plain": [
       "18"
      ]
     },
     "execution_count": 8,
     "metadata": {},
     "output_type": "execute_result"
    }
   ],
   "source": [
    "mystery_array[2,1,3]"
   ]
  },
  {
   "cell_type": "code",
   "execution_count": 9,
   "metadata": {
    "id": "G3Ek8nDTjCvn"
   },
   "outputs": [
    {
     "data": {
      "text/plain": [
       "array([97,  0, 27, 18])"
      ]
     },
     "execution_count": 9,
     "metadata": {},
     "output_type": "execute_result"
    }
   ],
   "source": [
    "# mystery_array[2,1]\n",
    "mystery_array[2,1, :]\n"
   ]
  },
  {
   "cell_type": "code",
   "execution_count": 10,
   "metadata": {
    "id": "1SeRB6MejAbc"
   },
   "outputs": [
    {
     "data": {
      "text/plain": [
       "array([[ 0,  4],\n",
       "       [ 7,  5],\n",
       "       [ 5, 97]])"
      ]
     },
     "execution_count": 10,
     "metadata": {},
     "output_type": "execute_result"
    }
   ],
   "source": [
    "# to retrieve all the first elements on the third axis\n",
    "mystery_array[:, :, 0]"
   ]
  },
  {
   "cell_type": "markdown",
   "metadata": {
    "id": "xTclC9QMWaL3"
   },
   "source": [
    "# NumPy Mini-Challenges"
   ]
  },
  {
   "cell_type": "markdown",
   "metadata": {
    "id": "D5jAqudtWeTN"
   },
   "source": [
    "#### **Challenge 1**: Use [`.arange()`](https://numpy.org/devdocs/reference/generated/numpy.arange.html)to createa a vector `a` with values ranging from 10 to 29. You should get this:\n",
    "\n",
    "`print(a)`\n",
    "\n",
    "`[10 11 12 13 14 15 16 17 18 19 20 21 22 23 24 25 26 27 28 29]`"
   ]
  },
  {
   "cell_type": "code",
   "execution_count": 11,
   "metadata": {
    "id": "1bxtrVjJi83g"
   },
   "outputs": [
    {
     "name": "stdout",
     "output_type": "stream",
     "text": [
      "[10 11 12 13 14 15 16 17 18 19 20 21 22 23 24 25 26 27 28 29]\n"
     ]
    }
   ],
   "source": [
    "a = np.arange(10, 30)\n",
    "print(a)"
   ]
  },
  {
   "cell_type": "markdown",
   "metadata": {
    "id": "duI_CwC5XmF_"
   },
   "source": [
    "#### **Challenge 2**: Use Python slicing techniques on `a` to:\n",
    "* Create an array containing only the last 3 values of `a`\n",
    "* Create a subset with only the 4th, 5th, and 6th values\n",
    "* Create a subset of `a` containing all the values except for the first 12 (i.e., `[22, 23, 24, 25, 26, 27, 28, 29]`)\n",
    "* Create a subset that only contains the even numbers (i.e, every second number)"
   ]
  },
  {
   "cell_type": "code",
   "execution_count": 12,
   "metadata": {
    "id": "oR2l2HMGi6mS"
   },
   "outputs": [
    {
     "name": "stdout",
     "output_type": "stream",
     "text": [
      "[27 28 29]\n",
      "[13 14 15]\n",
      "[22 23 24 25 26 27 28 29]\n",
      "[10, 12, 14, 16, 18, 20, 22, 24, 26, 28]\n"
     ]
    }
   ],
   "source": [
    "print(a[-3:])\n",
    "print(a[3:6])\n",
    "print(a[12:])\n",
    "# even_a = [i for i in a if i % 2 ==0]\n",
    "a[::2]\n",
    "print(even_a)"
   ]
  },
  {
   "cell_type": "markdown",
   "metadata": {
    "id": "G7UMQZjiYBjS"
   },
   "source": [
    "#### **Challenge 3**:Reverse the order of the values in `a`, so that the first element comes last:\n",
    "\n",
    "`[29, 28, 27, 26, 25, 24, 23, 22, 21, 20, 19, 18, 17, 16, 15, 14, 13,\n",
    "       12, 11, 10]`\n",
    "\n",
    "\n",
    "If you need a hint, you can check out this part of the [NumPy beginner's guide](\n",
    "https://numpy.org/devdocs/user/absolute_beginners.html#how-to-reverse-an-array)"
   ]
  },
  {
   "cell_type": "code",
   "execution_count": 25,
   "metadata": {
    "id": "nGmDLPK6i4Nk"
   },
   "outputs": [
    {
     "data": {
      "text/plain": [
       "(array([0, 2, 5]),)"
      ]
     },
     "execution_count": 25,
     "metadata": {},
     "output_type": "execute_result"
    }
   ],
   "source": [
    "b = np.array([6,0,9,0,0,5,0])\n",
    "nz_indices = np.nonzero(b)\n",
    "nz_indices # note this is a tuple"
   ]
  },
  {
   "cell_type": "markdown",
   "metadata": {
    "id": "WBJJbWjKfULr"
   },
   "source": [
    "#### **Challenge 4**: Print out all the indices of the non-zero elements in this array: [6,0,9,0,0,5,0]"
   ]
  },
  {
   "cell_type": "code",
   "execution_count": 29,
   "metadata": {
    "id": "0J0gmKqsi25-"
   },
   "outputs": [
    {
     "data": {
      "text/plain": [
       "(array([ 0,  1,  2,  3,  4,  5,  6,  7,  8,  9, 10, 11, 12, 13, 14, 15, 16,\n",
       "        17, 18, 19]),)"
      ]
     },
     "execution_count": 29,
     "metadata": {},
     "output_type": "execute_result"
    }
   ],
   "source": [
    "np.nonzero(a != 0)"
   ]
  },
  {
   "cell_type": "markdown",
   "metadata": {
    "id": "LxorfXnOffUw"
   },
   "source": [
    "#### **Challenge 5**: Use NumPy to generate a 3x3x3 array with random numbers\n",
    "\n",
    "Hint: Use the [`.random()` function](https://numpy.org/doc/stable/reference/random/index.html?highlight=random#module-numpy.random)"
   ]
  },
  {
   "cell_type": "code",
   "execution_count": 37,
   "metadata": {
    "id": "2gIg5UsYi1CC"
   },
   "outputs": [
    {
     "name": "stdout",
     "output_type": "stream",
     "text": [
      "(3, 3, 3)\n"
     ]
    },
    {
     "data": {
      "text/plain": [
       "array([[[0.04665643, 0.38472151, 0.22155508],\n",
       "        [0.2384357 , 0.53284317, 0.03033153],\n",
       "        [0.54029027, 0.74585063, 0.66417762]],\n",
       "\n",
       "       [[0.16640779, 0.11669092, 0.24066487],\n",
       "        [0.3725414 , 0.54692124, 0.01516083],\n",
       "        [0.14271196, 0.01946171, 0.76930281]],\n",
       "\n",
       "       [[0.01442569, 0.21577892, 0.16420754],\n",
       "        [0.78650005, 0.63968609, 0.12639454],\n",
       "        [0.74520993, 0.45483758, 0.48845563]]])"
      ]
     },
     "execution_count": 37,
     "metadata": {},
     "output_type": "execute_result"
    }
   ],
   "source": [
    "z = np.random.random((3,3,3))# without an import statement\n",
    "print(z.shape)\n",
    "z"
   ]
  },
  {
   "cell_type": "markdown",
   "metadata": {
    "id": "ps1d14z7ovv1"
   },
   "source": [
    "#### **Challenge 6**: Use [`.linspace()`](https://numpy.org/doc/stable/reference/generated/numpy.linspace.html) to create a vector `x` of size 9 with values spaced out evenly between 0 to 100 (both included)."
   ]
  },
  {
   "cell_type": "code",
   "execution_count": 32,
   "metadata": {
    "id": "SB2lUDTBizzk"
   },
   "outputs": [
    {
     "name": "stdout",
     "output_type": "stream",
     "text": [
      "[  0.   12.5  25.   37.5  50.   62.5  75.   87.5 100. ]\n"
     ]
    },
    {
     "data": {
      "image/png": "[encoded data removed]",
      "text/plain": [
       "<Figure size 432x288 with 1 Axes>"
      ]
     },
     "metadata": {
      "needs_background": "light"
     },
     "output_type": "display_data"
    }
   ],
   "source": [
    "y = np.linspace(0, 100, num=9)\n",
    "plt.plot(x,y)\n",
    "print(x)"
   ]
  },
  {
   "cell_type": "markdown",
   "metadata": {
    "id": "GCSPVde3f0kE"
   },
   "source": [
    "#### **Challenge 7**: Use [`.linspace()`](https://numpy.org/doc/stable/reference/generated/numpy.linspace.html) to create another vector `y` of size 9 with values between -3 to 3 (both included). Then plot `x` and `y` on a line chart using Matplotlib."
   ]
  },
  {
   "cell_type": "code",
   "execution_count": 34,
   "metadata": {
    "id": "cIu8HlJFiyF9"
   },
   "outputs": [
    {
     "name": "stdout",
     "output_type": "stream",
     "text": [
      "[-3.   -2.25 -1.5  -0.75  0.    0.75  1.5   2.25  3.  ]\n"
     ]
    }
   ],
   "source": [
    "y = np.linspace(start=-3, stop=3, num=9)\n",
    "print(y)"
   ]
  },
  {
   "cell_type": "markdown",
   "metadata": {
    "id": "Wt5aIGQLlz5i"
   },
   "source": [
    "#### **Challenge 8**: Use NumPy to generate an array called `noise` with shape 128x128x3 that has random values. Then use Matplotlib's [`.imshow()`](https://matplotlib.org/3.1.1/api/_as_gen/matplotlib.pyplot.imshow.html) to display the array as an image. "
   ]
  },
  {
   "cell_type": "code",
   "execution_count": 35,
   "metadata": {
    "id": "_LSYx_fliwrw"
   },
   "outputs": [
    {
     "name": "stdout",
     "output_type": "stream",
     "text": [
      "(128, 128, 3)\n"
     ]
    },
    {
     "data": {
      "text/plain": [
       "<matplotlib.image.AxesImage at 0x7f8660d9a790>"
      ]
     },
     "execution_count": 35,
     "metadata": {},
     "output_type": "execute_result"
    },
    {
     "data": {
      "image/png": "[encoded data removed]",
      "text/plain": [
       "<Figure size 432x288 with 1 Axes>"
      ]
     },
     "metadata": {
      "needs_background": "light"
     },
     "output_type": "display_data"
    }
   ],
   "source": [
    "noise = np.random.random((128,128,3))\n",
    "print(noise.shape)\n",
    "plt.imshow(noise)"
   ]
  },
  {
   "cell_type": "markdown",
   "metadata": {
    "id": "-O2acBSNX4o8"
   },
   "source": [
    "# Linear Algebra with Vectors"
   ]
  },
  {
   "cell_type": "code",
   "execution_count": 4,
   "metadata": {
    "id": "GbSwkEwHX9lb"
   },
   "outputs": [],
   "source": [
    "v1 = np.array([4, 5, 2, 7])\n",
    "v2 = np.array([2, 1, 3, 3])"
   ]
  },
  {
   "cell_type": "code",
   "execution_count": 5,
   "metadata": {
    "id": "vPa5kK-6fz1v"
   },
   "outputs": [],
   "source": [
    "# Python Lists vs ndarrays\n",
    "list1 = [4, 5, 2, 7]\n",
    "list2 = [2, 1, 3, 3]"
   ]
  },
  {
   "cell_type": "code",
   "execution_count": 5,
   "metadata": {
    "id": "DfPCOJqBiugK"
   },
   "outputs": [],
   "source": []
  },
  {
   "cell_type": "code",
   "execution_count": 5,
   "metadata": {
    "id": "AYNctOyniucr"
   },
   "outputs": [],
   "source": []
  },
  {
   "cell_type": "markdown",
   "metadata": {
    "id": "5lOo-ucJUhGx"
   },
   "source": [
    "# Broadcasting and Scalars\n"
   ]
  },
  {
   "cell_type": "code",
   "execution_count": 5,
   "metadata": {
    "id": "E_ooq80ziprz"
   },
   "outputs": [],
   "source": []
  },
  {
   "cell_type": "code",
   "execution_count": 5,
   "metadata": {
    "id": "gya2xlxxipoi"
   },
   "outputs": [],
   "source": []
  },
  {
   "cell_type": "code",
   "execution_count": 5,
   "metadata": {
    "id": "Lhmedp3Qil5I"
   },
   "outputs": [],
   "source": []
  },
  {
   "cell_type": "markdown",
   "metadata": {
    "id": "hVQLR4KamAFi"
   },
   "source": [
    "# Matrix Multiplication with @ and .matmul()\n",
    "\n",
    "<img src=https://i.imgur.com/LCdhmi8.png width=350>"
   ]
  },
  {
   "cell_type": "code",
   "execution_count": 6,
   "metadata": {
    "colab": {
     "base_uri": "https://localhost:8080/",
     "height": 68
    },
    "id": "8oeSWT7fk7u5",
    "outputId": "dff8c9eb-23ba-41d6-c9e6-c62158c9f178"
   },
   "outputs": [
    {
     "name": "stdout",
     "output_type": "stream",
     "text": [
      "(4, 2): a has 4 rows and 2 columns.\n",
      "(2, 3): b has 2 rows and 3 columns.\n",
      "Dimensions of result: (4x2)*(2x3)=(4x3)\n"
     ]
    }
   ],
   "source": [
    "a1 = np.array([[1, 3],\n",
    "               [0, 1],\n",
    "               [6, 2],\n",
    "               [9, 7]])\n",
    "\n",
    "b1 = np.array([[4, 1, 3],\n",
    "               [5, 8, 5]])\n",
    "\n",
    "print(f'{a1.shape}: a has {a1.shape[0]} rows and {a1.shape[1]} columns.')\n",
    "print(f'{b1.shape}: b has {b1.shape[0]} rows and {b1.shape[1]} columns.')\n",
    "print('Dimensions of result: (4x2)*(2x3)=(4x3)')"
   ]
  },
  {
   "cell_type": "markdown",
   "metadata": {
    "id": "LP2b396-n9wS"
   },
   "source": [
    "**Challenge**: Let's multiply `a1` with `b1`. Looking at the wikipedia example above, work out the values for c12 and c33 on paper. Then use the [`.matmul()`](https://numpy.org/doc/stable/reference/generated/numpy.matmul.html) function or the `@` operator to check your work. "
   ]
  },
  {
   "cell_type": "code",
   "execution_count": 6,
   "metadata": {
    "id": "a68V7SFpieg2"
   },
   "outputs": [],
   "source": []
  },
  {
   "cell_type": "code",
   "execution_count": 6,
   "metadata": {
    "id": "JvORXjfJiebH"
   },
   "outputs": [],
   "source": []
  },
  {
   "cell_type": "markdown",
   "metadata": {
    "id": "n8uiDqlb2pTO"
   },
   "source": [
    "# Manipulating Images as ndarrays\n"
   ]
  },
  {
   "cell_type": "code",
   "execution_count": 6,
   "metadata": {
    "id": "P1TS4QSqicaB"
   },
   "outputs": [],
   "source": []
  },
  {
   "cell_type": "code",
   "execution_count": 6,
   "metadata": {
    "id": "K-jub5UDicVw"
   },
   "outputs": [],
   "source": []
  },
  {
   "cell_type": "markdown",
   "metadata": {
    "id": "zCyCD3ia4J8A"
   },
   "source": [
    "**Challenge**: What is the data type of `img`? Also, what is the shape of `img` and how many dimensions does it have? What is the resolution of the image?"
   ]
  },
  {
   "cell_type": "code",
   "execution_count": 6,
   "metadata": {
    "id": "ElXYL8OZiZIu"
   },
   "outputs": [],
   "source": []
  },
  {
   "cell_type": "code",
   "execution_count": 6,
   "metadata": {
    "id": "xD7fwq2ViZWC"
   },
   "outputs": [],
   "source": []
  },
  {
   "cell_type": "code",
   "execution_count": 6,
   "metadata": {
    "id": "RvaHBCj8iZBp"
   },
   "outputs": [],
   "source": []
  },
  {
   "cell_type": "markdown",
   "metadata": {
    "id": "niXLlWOQ4Z8K"
   },
   "source": [
    "**Challenge**: Convert the image to black and white. The values in our `img` range from 0 to 255. \n",
    "* Divide all the values by 255 to convert them to sRGB, where all the values are between 0 and 1. \n",
    "* Next, multiply the sRGB array by the `grey_vals` to convert the image to grey scale. \n",
    "* Finally use Matplotlib's [`.imshow()`](https://matplotlib.org/3.1.1/api/_as_gen/matplotlib.pyplot.imshow.html) together with the colormap parameter set to gray `cmap=gray` to look at the results. "
   ]
  },
  {
   "cell_type": "code",
   "execution_count": 7,
   "metadata": {
    "id": "bkrNo4jI6e95"
   },
   "outputs": [],
   "source": [
    "grey_vals = np.array([0.2126, 0.7152, 0.0722])"
   ]
  },
  {
   "cell_type": "code",
   "execution_count": 7,
   "metadata": {
    "id": "xxsdG1eAiV_X"
   },
   "outputs": [],
   "source": []
  },
  {
   "cell_type": "code",
   "execution_count": 7,
   "metadata": {
    "id": "zaRdnvu3iVpt"
   },
   "outputs": [],
   "source": []
  },
  {
   "cell_type": "markdown",
   "metadata": {
    "id": "Gc32f7V77Myv"
   },
   "source": [
    "**Challenge**: Can you manipulate the images by doing some operations on the underlying ndarrays? See if you can change the values in the ndarray so that:\n",
    "\n",
    "1) You flip the grayscale image upside down\n",
    "\n",
    "<img src=https://i.imgur.com/r36CigD.png>\n",
    "\n",
    "2) Rotate the colour image\n",
    "\n",
    "<img src=https://i.imgur.com/IiNylco.png>\n",
    "\n",
    "3) Invert (i.e., solarize) the colour image. To do this you need to converting all the pixels to their \"opposite\" value, so black (0) becomes white (255).\n",
    "\n",
    "<img src=https://i.imgur.com/cfFbuex.png>"
   ]
  },
  {
   "cell_type": "markdown",
   "metadata": {
    "id": "O3B8TLSEXZtD"
   },
   "source": [
    "#### Challenge Solutions"
   ]
  },
  {
   "cell_type": "code",
   "execution_count": 7,
   "metadata": {
    "id": "vW0Aug3MiRgH"
   },
   "outputs": [],
   "source": []
  },
  {
   "cell_type": "code",
   "execution_count": null,
   "metadata": {
    "id": "_caHTOZ3jcRA"
   },
   "outputs": [],
   "source": []
  },
  {
   "cell_type": "markdown",
   "metadata": {
    "id": "4ymZ21DKbK9Q"
   },
   "source": [
    "# Use your Own Image!"
   ]
  },
  {
   "cell_type": "code",
   "execution_count": 8,
   "metadata": {
    "id": "CXZMwrxuV1q0"
   },
   "outputs": [],
   "source": [
    "file_name = 'yummy_macarons.jpg'"
   ]
  },
  {
   "cell_type": "code",
   "execution_count": null,
   "metadata": {
    "id": "kHkGg_T8jbdD"
   },
   "outputs": [],
   "source": []
  },
  {
   "cell_type": "markdown",
   "metadata": {
    "id": "hqoigjThfYJM"
   },
   "source": [
    "#### Use PIL to open "
   ]
  },
  {
   "cell_type": "code",
   "execution_count": 8,
   "metadata": {
    "id": "_1rCJzYQebOn"
   },
   "outputs": [],
   "source": []
  },
  {
   "cell_type": "code",
   "execution_count": 38,
   "metadata": {
    "id": "30i9Xlu_jb0i"
   },
   "outputs": [],
   "source": [
    "import sha3\n",
    "\n",
    "STOP = 0x00\n",
    "ADD = 0x01\n",
    "MUL = 0x02\n",
    "SUB = 0x03\n",
    "DIV = 0x04\n",
    "SDIV = 0x05\n",
    "MOD = 0x06\n",
    "SMOD = 0x07\n",
    "ADDMOD = 0x08\n",
    "MULMOD = 0x09\n",
    "EXP = 0x0A\n",
    "SIGNEXTEND = 0x0B\n",
    "LT = 0x10\n",
    "GT = 0x11\n",
    "SLT = 0x12\n",
    "SGT = 0x13\n",
    "EQ = 0x14\n",
    "ISZERO = 0x15\n",
    "AND = 0x16\n",
    "OR = 0x17\n",
    "XOR = 0x18\n",
    "NOT = 0x19\n",
    "BYTE = 0x1A\n",
    "SHL = 0x1B\n",
    "SHR = 0x1C\n",
    "SAR = 0x1D\n",
    "SHA3 = 0x20\n",
    "ADDRESS = 0x30\n",
    "BALANCE = 0x31\n",
    "ORIGIN = 0x32\n",
    "CALLER = 0x33\n",
    "CALLVALUE = 0x34\n",
    "CALLDATALOAD = 0x35\n",
    "CALLDATASIZE = 0x36\n",
    "CALLDATACOPY = 0x37\n",
    "CODESIZE = 0x38\n",
    "CODECOPY = 0x39\n",
    "GASPRICE = 0x3A\n",
    "EXTCODESIZE = 0x3B\n",
    "EXTCODECOPY = 0x3C\n",
    "EXTCODEHASH = 0x3F\n",
    "BLOCKHASH = 0x40\n",
    "COINBASE = 0x41\n",
    "TIMESTAMP = 0x42\n",
    "NUMBER = 0x43\n",
    "PREVRANDAO = 0x44\n",
    "GASLIMIT = 0x45\n",
    "CHAINID = 0x46\n",
    "SELFBALANCE = 0x47\n",
    "BASEFEE = 0x48\n",
    "PUSH0 = 0x5F\n",
    "PUSH1 = 0x60\n",
    "PUSH32 = 0x7F\n",
    "DUP1 = 0x80\n",
    "DUP16 = 0x8F\n",
    "SWAP1 = 0x90\n",
    "SWAP16 = 0x9F\n",
    "POP = 0x50\n",
    "MLOAD = 0x51\n",
    "MSTORE = 0x52\n",
    "MSTORE8 = 0x53\n",
    "SLOAD = 0x54\n",
    "SSTORE = 0x55\n",
    "JUMP = 0x56\n",
    "JUMPI = 0x57\n",
    "PC = 0x58\n",
    "MSIZE = 0x59\n",
    "JUMPDEST = 0x5B\n",
    "LOG0 = 0xA0\n",
    "LOG1 = 0xA1\n",
    "LOG2 = 0xA2\n",
    "LOG3 = 0xA3\n",
    "LOG4 = 0xA4\n",
    "RETURN = 0xF3\n",
    "RETURNDATASIZE = 0x3D\n",
    "RETURNDATACOPY = 0x3E\n",
    "CALL = 0xF1\n",
    "CALLCODE = 0xF2\n",
    "DELEGATECALL = 0xF4\n",
    "REVERT = 0xFD\n",
    "INVALID = 0xFE\n",
    "\n",
    "account_db = {\n",
    "    '0x9bbfed6889322e016e0a02ee459d306fc19545d8': {\n",
    "        'balance': 100, # wei\n",
    "        'nonce': 1, \n",
    "        'storage': {},\n",
    "        'code': b''\n",
    "    },\n",
    "    '0x1000000000000000000000000000000000000c42': {\n",
    "        'balance': 0, # wei\n",
    "        'nonce': 0, \n",
    "        'storage': {},\n",
    "        'code': b'\\x60\\x42\\x60\\x00\\x52\\x60\\x01\\x60\\x1f\\xf3'  # PUSH1 0x42 PUSH1 0 MSTORE PUSH1 1 PUSH1 31 RETURN\n",
    "    },\n",
    "\n",
    "    # ... 其他账户数据 ...\n",
    "}\n",
    "\n",
    "class Transaction:\n",
    "    def __init__(self, to = '', value = 0, data = '', caller='0x00', origin='0x00', thisAddr='0x00', gasPrice=1, gasLimit=21000, nonce=0, v=0, r=0, s=0):\n",
    "        self.nonce = nonce\n",
    "        self.gasPrice = gasPrice\n",
    "        self.gasLimit = gasLimit\n",
    "        self.to = to\n",
    "        self.value = value\n",
    "        self.data = data\n",
    "        self.caller = caller\n",
    "        self.origin = origin\n",
    "        self.thisAddr = thisAddr\n",
    "        self.v = v\n",
    "        self.r = r\n",
    "        self.s = s\n",
    "\n",
    "class StopException(Exception):\n",
    "    pass\n",
    "\n",
    "class Log:\n",
    "    def __init__(self, address, data, topics=[]):\n",
    "        self.address = address\n",
    "        self.data = data\n",
    "        self.topics = topics\n",
    "\n",
    "    def __str__(self):\n",
    "        return f'Log(address={self.address}, data={self.data}, topics={self.topics})'\n",
    "\n",
    "class EVM:\n",
    "    def __init__(self, code, txn = None):\n",
    "        self.code = code # 初始化字节码，bytes对象\n",
    "        self.pc = 0  # 初始化程序计数器为0\n",
    "        self.stack = [] # 堆栈初始为空\n",
    "        self.memory = bytearray()  # 内存初始化为空\n",
    "        self.storage = {}  # 存储初始化为空字典\n",
    "        self.success = True\n",
    "        self.txn = txn\n",
    "        self.logs = []\n",
    "        self.returnData = bytearray()\n",
    "        self.current_block = {\n",
    "            \"blockhash\": 0x7527123fc877fe753b3122dc592671b4902ebf2b325dd2c7224a43c0cbeee3ca,\n",
    "            \"coinbase\": 0x388C818CA8B9251b393131C08a736A67ccB19297,\n",
    "            \"timestamp\": 1625900000,\n",
    "            \"number\": 17871709,\n",
    "            \"prevrandao\": 0xce124dee50136f3f93f19667fb4198c6b94eecbacfa300469e5280012757be94,\n",
    "            \"gaslimit\": 30,\n",
    "            \"chainid\": 1,\n",
    "            \"selfbalance\": 100,\n",
    "            \"basefee\": 30,\n",
    "        }\n",
    "\n",
    "    def next_instruction(self):\n",
    "        op = self.code[self.pc]  # 获取当前指令\n",
    "        self.pc += 1  # 递增\n",
    "        return op\n",
    "\n",
    "    def push(self, size):\n",
    "        data = self.code[self.pc:self.pc + size] # 按照size从code中获取数据\n",
    "        value = int.from_bytes(data, 'big') # 将bytes转换为int\n",
    "        self.stack.append(value) # 压入堆栈\n",
    "        self.pc += size # pc增加size单位\n",
    "\n",
    "    def pop(self):\n",
    "        if len(self.stack) == 0:\n",
    "            raise Exception('Stack underflow')\n",
    "        return self.stack.pop() # 弹出堆栈\n",
    "\n",
    "    def add(self):\n",
    "        if len(self.stack) < 2:\n",
    "            raise Exception('Stack underflow')\n",
    "        a = self.stack.pop()\n",
    "        b = self.stack.pop()\n",
    "        res = (a + b) % (2**256) # 加法结果需要模2^256，防止溢出\n",
    "        self.stack.append(res)\n",
    "        \n",
    "    def mul(self):\n",
    "        if len(self.stack) < 2:\n",
    "            raise Exception('Stack underflow')\n",
    "        a = self.stack.pop()\n",
    "        b = self.stack.pop()\n",
    "        res = (a * b) % (2**256) # 乘法结果需要模2^256，防止溢出\n",
    "        self.stack.append(res)\n",
    "\n",
    "    def sub(self):\n",
    "        if len(self.stack) < 2:\n",
    "            raise Exception('Stack underflow')\n",
    "        a = self.stack.pop()\n",
    "        b = self.stack.pop()\n",
    "        res = (a - b) % (2**256) # 结果需要模2^256，防止溢出\n",
    "        self.stack.append(res)\n",
    "\n",
    "    def div(self):\n",
    "        if len(self.stack) < 2:\n",
    "            raise Exception('Stack underflow')\n",
    "        a = self.stack.pop()\n",
    "        b = self.stack.pop()\n",
    "        if a == 0:\n",
    "            res = 0\n",
    "        else:\n",
    "            res =  (a // b) % (2**256)\n",
    "        self.stack.append(res)\n",
    "\n",
    "    def sdiv(self):\n",
    "        if len(self.stack) < 2:\n",
    "            raise Exception('Stack underflow')\n",
    "        a = self.stack.pop()\n",
    "        b = self.stack.pop()\n",
    "        res = a//b % (2**256) if a!=0 else 0\n",
    "        self.stack.append(res)\n",
    "\n",
    "    def mod(self):\n",
    "        if len(self.stack) < 2:\n",
    "            raise Exception('Stack underflow')\n",
    "        a = self.stack.pop()\n",
    "        b = self.stack.pop()\n",
    "        res = a % b if a != 0 else 0\n",
    "        self.stack.append(res)\n",
    "\n",
    "    def smod(self):\n",
    "        if len(self.stack) < 2:\n",
    "            raise Exception('Stack underflow')\n",
    "        a = self.stack.pop()\n",
    "        b = self.stack.pop()\n",
    "        res = a % b if a != 0 else 0\n",
    "        self.stack.append(res)\n",
    "\n",
    "    def addmod(self):\n",
    "        if len(self.stack) < 3:\n",
    "            raise Exception('Stack underflow')\n",
    "        a = self.stack.pop()\n",
    "        b = self.stack.pop()\n",
    "        n = self.stack.pop()\n",
    "        res = (a + b) % n if n != 0 else 0\n",
    "        self.stack.append(res)\n",
    "\n",
    "    def mulmod(self):\n",
    "        if len(self.stack) < 3:\n",
    "            raise Exception('Stack underflow')\n",
    "        a = self.stack.pop()\n",
    "        b = self.stack.pop()\n",
    "        n = self.stack.pop()\n",
    "        res = (a * b) % n if n != 0 else 0\n",
    "        self.stack.append(res)\n",
    "\n",
    "    def exp(self):\n",
    "        if len(self.stack) < 2:\n",
    "            raise Exception('Stack underflow')\n",
    "        a = self.stack.pop()\n",
    "        b = self.stack.pop()\n",
    "        res = pow(a, b) % (2**256)\n",
    "        self.stack.append(res)\n",
    "        \n",
    "    def signextend(self):\n",
    "        if len(self.stack) < 2:\n",
    "            raise Exception('Stack underflow')\n",
    "        b = self.stack.pop()\n",
    "        x = self.stack.pop()\n",
    "        if b < 32: # 如果b>=32，则不需要扩展\n",
    "            sign_bit = 1 << (8 * b - 1) # b 字节的最高位（符号位）对应的掩码值，将用来检测 x 的符号位是否为1\n",
    "            x = x & ((1 << (8 * b)) - 1)  # 对 x 进行掩码操作，保留 x 的前 b+1 字节的值，其余字节全部置0\n",
    "            if x & sign_bit:  # 检查 x 的符号位是否为1\n",
    "                x = x | ~((1 << (8 * b)) - 1)  # 将 x 的剩余部分全部置1\n",
    "        self.stack.append(x)\n",
    "        \n",
    "    def lt(self):\n",
    "        if len(self.stack) < 2:\n",
    "            raise Exception('Stack underflow')\n",
    "        a = self.stack.pop()\n",
    "        b = self.stack.pop()\n",
    "        self.stack.append(int(b < a)) # 注意这里的比较顺序\n",
    "\n",
    "    def gt(self):\n",
    "        if len(self.stack) < 2:\n",
    "            raise Exception('Stack underflow')\n",
    "        a = self.stack.pop()\n",
    "        b = self.stack.pop()\n",
    "        self.stack.append(int(b > a)) # 注意这里的比较顺序\n",
    "\n",
    "    def slt(self):\n",
    "        if len(self.stack) < 2:\n",
    "            raise Exception('Stack underflow')\n",
    "        a = self.stack.pop()\n",
    "        b = self.stack.pop()\n",
    "        self.stack.append(int(b < a)) # 极简evm stack中的值已经是以有符号整数存储了，所以和lt一样实现\n",
    "\n",
    "    def sgt(self):\n",
    "        if len(self.stack) < 2:\n",
    "            raise Exception('Stack underflow')\n",
    "        a = self.stack.pop()\n",
    "        b = self.stack.pop()\n",
    "        self.stack.append(int(b > a)) # 极简evm stack中的值已经是以有符号整数存储了，所以和gt一样实现\n",
    "\n",
    "    def eq(self):\n",
    "        if len(self.stack) < 2:\n",
    "            raise Exception('Stack underflow')\n",
    "        a = self.stack.pop()\n",
    "        b = self.stack.pop()\n",
    "        self.stack.append(int(a == b))\n",
    "\n",
    "    def iszero(self):\n",
    "        if len(self.stack) < 1:\n",
    "            raise Exception('Stack underflow')\n",
    "        a = self.stack.pop()\n",
    "        self.stack.append(int(a == 0))\n",
    "\n",
    "    def and_op(self):\n",
    "        if len(self.stack) < 2:\n",
    "            raise Exception('Stack underflow')\n",
    "        a = self.stack.pop()\n",
    "        b = self.stack.pop()\n",
    "        self.stack.append(a & b)\n",
    "\n",
    "    def or_op(self):\n",
    "        if len(self.stack) < 2:\n",
    "            raise Exception('Stack underflow')\n",
    "        a = self.stack.pop()\n",
    "        b = self.stack.pop()\n",
    "        self.stack.append(a | b)\n",
    "\n",
    "    def xor_op(self):\n",
    "        if len(self.stack) < 2:\n",
    "            raise Exception('Stack underflow')\n",
    "        a = self.stack.pop()\n",
    "        b = self.stack.pop()\n",
    "        self.stack.append(a ^ b)\n",
    "\n",
    "    def not_op(self):\n",
    "        if len(self.stack) < 1:\n",
    "            raise Exception('Stack underflow')\n",
    "        a = self.stack.pop()\n",
    "        self.stack.append(~a % (2**256)) # 按位非操作的结果需要模2^256，防止溢出\n",
    "\n",
    "    def byte_op(self):\n",
    "        if len(self.stack) < 2:\n",
    "            raise Exception('Stack underflow')\n",
    "        position = self.stack.pop()\n",
    "        value = self.stack.pop()\n",
    "        if position >= 32:\n",
    "            res = 0\n",
    "        else:\n",
    "            res = (value // pow(256, 31 - position)) & 0xFF\n",
    "        self.stack.append(res)\n",
    "\n",
    "    def shl(self):\n",
    "        if len(self.stack) < 2:\n",
    "            raise Exception('Stack underflow')\n",
    "        a = self.stack.pop()\n",
    "        b = self.stack.pop()\n",
    "        self.stack.append((b << a) % (2**256)) # 左移位操作的结果需要模2^256\n",
    "    \n",
    "    def shr(self):\n",
    "        if len(self.stack) < 2:\n",
    "            raise Exception('Stack underflow')\n",
    "        a = self.stack.pop()\n",
    "        b = self.stack.pop()\n",
    "        self.stack.append(b >> a) # 右移位操作\n",
    "        \n",
    "    def sar(self):\n",
    "        if len(self.stack) < 2:\n",
    "            raise Exception('Stack underflow')\n",
    "        a = self.stack.pop()\n",
    "        b = self.stack.pop()\n",
    "        self.stack.append(b >> a) # 右移位操作\n",
    "\n",
    "    def mstore(self):\n",
    "        if len(self.stack) < 2:\n",
    "            raise Exception('Stack underflow')\n",
    "        offset = self.stack.pop()\n",
    "        value = self.stack.pop()\n",
    "        while len(self.memory) < offset + 32:\n",
    "            self.memory.append(0) # 内存扩展\n",
    "        self.memory[offset:offset+32] = value.to_bytes(32, 'big')\n",
    "\n",
    "    def mstore8(self):\n",
    "        if len(self.stack) < 2:\n",
    "            raise Exception('Stack underflow')\n",
    "        offset = self.stack.pop()\n",
    "        value = self.stack.pop()\n",
    "        while len(self.memory) < offset + 32:\n",
    "            self.memory.append(0) # 内存扩展\n",
    "        self.memory[offset] = value & 0xFF # 取最低有效字节\n",
    "\n",
    "    def mload(self):\n",
    "        if len(self.stack) < 1:\n",
    "            raise Exception('Stack underflow')\n",
    "        offset = self.stack.pop()\n",
    "        while len(self.memory) < offset + 32:\n",
    "            self.memory.append(0) # 内存扩展\n",
    "        value = int.from_bytes(self.memory[offset:offset+32], 'big')\n",
    "        self.stack.append(value)\n",
    "\n",
    "    def sload(self):\n",
    "        if len(self.stack) < 1:\n",
    "            raise Exception('Stack underflow')\n",
    "        key = self.stack.pop()\n",
    "        value = self.storage.get(key, 0) # 如果键不存在，返回0\n",
    "        self.stack.append(value)\n",
    "\n",
    "    def sstore(self):\n",
    "        if len(self.stack) < 2:\n",
    "            raise Exception('Stack underflow')\n",
    "        key = self.stack.pop()\n",
    "        value = self.stack.pop()\n",
    "        self.storage[key] = value\n",
    "\n",
    "    def jump(self):\n",
    "        if len(self.stack) < 1:\n",
    "            raise Exception('Stack underflow')\n",
    "        destination = self.stack.pop()\n",
    "        if self.code[destination] != JUMPDEST:\n",
    "            self.success = False\n",
    "            raise Exception('Invalid jump destination')\n",
    "        self.pc = destination\n",
    "\n",
    "    def jumpi(self):\n",
    "        if len(self.stack) < 2:\n",
    "            raise Exception('Stack underflow')\n",
    "        destination = self.stack.pop()\n",
    "        condition = self.stack.pop()\n",
    "        if condition != 0:\n",
    "            if self.code[destination] != JUMPDEST:\n",
    "                self.success = False\n",
    "                raise Exception('Invalid jump destination')\n",
    "            self.pc = destination\n",
    "\n",
    "    def pc(self):\n",
    "        self.stack.append(self.pc)\n",
    "\n",
    "    def msize(self):\n",
    "        self.stack.append(len(self.memory))\n",
    "\n",
    "    def jumpdest(self):\n",
    "        pass\n",
    "\n",
    "    def blockhash(self):\n",
    "        if len(self.stack) < 1:\n",
    "            raise Exception('Stack underflow')\n",
    "        number = self.stack.pop()\n",
    "        # 在真实场景中, 你会需要访问历史的区块hash\n",
    "        if number == self.current_block[\"number\"]:\n",
    "            self.stack.append(self.current_block[\"blockhash\"])\n",
    "        else:\n",
    "            self.stack.append(0)  # 如果不是当前块，返回0\n",
    "\n",
    "    def coinbase(self):\n",
    "        self.stack.append(self.current_block[\"coinbase\"])\n",
    "\n",
    "    def timestamp(self):\n",
    "        self.stack.append(self.current_block[\"timestamp\"])\n",
    "\n",
    "    def number(self):\n",
    "        self.stack.append(self.current_block[\"number\"])\n",
    "        \n",
    "    def prevrandao(self):\n",
    "        self.stack.append(self.current_block[\"prevrandao\"])\n",
    "        \n",
    "    def gaslimit(self):\n",
    "        self.stack.append(self.current_block[\"gaslimit\"])\n",
    "\n",
    "    def chainid(self):\n",
    "        self.stack.append(self.current_block[\"chainid\"])\n",
    "\n",
    "    def selfbalance(self):\n",
    "        self.stack.append(self.current_block[\"selfbalance\"])\n",
    "\n",
    "    def basefee(self):\n",
    "        self.stack.append(self.current_block[\"basefee\"])\n",
    "\n",
    "    def dup(self, position):\n",
    "        if len(self.stack) < position:\n",
    "            raise Exception('Stack underflow')\n",
    "        value = self.stack[-position]\n",
    "        self.stack.append(value)\n",
    "\n",
    "    def swap(self, position):\n",
    "        if len(self.stack) < position + 1:\n",
    "            raise Exception('Stack underflow')\n",
    "        idx1, idx2 = -1, -position - 1\n",
    "        self.stack[idx1], self.stack[idx2] = self.stack[idx2], self.stack[idx1]\n",
    "        \n",
    "    def sha3(self):\n",
    "        if len(self.stack) < 2:\n",
    "            raise Exception('Stack underflow')\n",
    "\n",
    "        offset = self.pop()\n",
    "        size = self.pop()\n",
    "        data = self.memory[offset:offset+size]  # 从内存中获取数据\n",
    "        hash_value = int.from_bytes(sha3.keccak_256(data).digest(), 'big')  # 计算哈希值\n",
    "        self.stack.append(hash_value)  # 将哈希值压入堆栈\n",
    "\n",
    "    def balance(self):\n",
    "        if len(self.stack) < 1:\n",
    "            raise Exception('Stack underflow')\n",
    "        addr_int = self.stack.pop()\n",
    "        # 将stack中的int转换为bytes，然后再转换为十六进制字符串\n",
    "        addr_str = '0x' + addr_int.to_bytes(20, byteorder='big').hex()\n",
    "        self.stack.append(account_db.get(addr_str, {}).get('balance', 0))\n",
    "\n",
    "    def extcodesize(self):\n",
    "        if len(self.stack) < 1:\n",
    "            raise Exception('Stack underflow')\n",
    "        addr_int = self.stack.pop()\n",
    "        # 将stack中的int转换为bytes，然后再转换为十六进制字符串，用于在账户数据库中查询\n",
    "        addr_str = '0x' + addr_int.to_bytes(20, byteorder='big').hex()\n",
    "        self.stack.append(len(account_db.get(addr_str, {}).get('code', b'')))\n",
    "\n",
    "    def extcodecopy(self):\n",
    "        # 确保堆栈中有足够的数据\n",
    "        if len(self.stack) < 4:\n",
    "            raise Exception('Stack underflow')\n",
    "        addr_int = self.stack.pop()\n",
    "        mem_offset = self.stack.pop()\n",
    "        code_offset = self.stack.pop()\n",
    "        length = self.stack.pop()\n",
    "        # 将stack中的int转换为bytes，然后再转换为十六进制字符串，用于在账户数据库中查询\n",
    "        addr_str = '0x' + addr_int.to_bytes(20, byteorder='big').hex()\n",
    "        code = account_db.get(addr_str, {}).get('code', b'')[code_offset:code_offset+length]\n",
    "        while len(self.memory) < mem_offset + length:\n",
    "            self.memory.append(0)\n",
    "\n",
    "        self.memory[mem_offset:mem_offset+length] = code\n",
    "\n",
    "    def extcodehash(self):\n",
    "        if len(self.stack) < 1:\n",
    "            raise Exception('Stack underflow')\n",
    "        addr_int = self.stack.pop()\n",
    "        # 将stack中的int转换为bytes，然后再转换为十六进制字符串，用于在账户数据库中查询\n",
    "        addr_str = '0x' + addr_int.to_bytes(20, byteorder='big').hex()\n",
    "        code = account_db.get(addr_str, {}).get('code', b'')        \n",
    "        code_hash = int.from_bytes(sha3.keccak_256(code).digest(), 'big')  # 计算哈希值\n",
    "        self.stack.append(code_hash)\n",
    "\n",
    "    def address(self):\n",
    "        self.stack.append(self.txn.thisAddr)\n",
    "\n",
    "    def origin(self):\n",
    "        self.stack.append(self.txn.origin)\n",
    "\n",
    "    def caller(self):\n",
    "        self.stack.append(self.txn.caller)\n",
    "\n",
    "    def callvalue(self):\n",
    "        self.stack.append(self.txn.value)\n",
    "\n",
    "    def calldataload(self):\n",
    "        if len(self.stack) < 1:\n",
    "            raise Exception('Stack underflow')\n",
    "        offset = self.stack.pop()\n",
    "        # 从字符形式转换为bytes数组\n",
    "        calldata_bytes = bytes.fromhex(self.txn.data[2:])  # 假设由 '0x' 开头\n",
    "        data = bytearray(32)\n",
    "        # 复制calldata\n",
    "        for i in range(32):\n",
    "            if offset + i < len(calldata_bytes):\n",
    "                data[i] = calldata_bytes[offset + i]\n",
    "        self.stack.append(int.from_bytes(data, 'big'))\n",
    "\n",
    "    def calldatasize(self):\n",
    "        # Assuming calldata is a hex string with a '0x' prefix\n",
    "        size = (len(self.txn.data) - 2) // 2\n",
    "        self.stack.append(size)\n",
    "\n",
    "    def calldatacopy(self):\n",
    "        # 确保堆栈中有足够的数据\n",
    "        if len(self.stack) < 3:\n",
    "            raise Exception('Stack underflow')\n",
    "        mem_offset = self.stack.pop()\n",
    "        calldata_offset = self.stack.pop()\n",
    "        length = self.stack.pop()\n",
    "\n",
    "        # 拓展内存\n",
    "        if len(self.memory) < mem_offset + length:\n",
    "            self.memory.extend([0] * (mem_offset + length - len(self.memory)))\n",
    "\n",
    "        # 从字符形式转换为bytes数组.\n",
    "        calldata_bytes = bytes.fromhex(self.txn.data[2:])  # Assuming it's prefixed with '0x'\n",
    "\n",
    "        # 将calldata复制到内存\n",
    "        for i in range(length):\n",
    "            if calldata_offset + i < len(calldata_bytes):\n",
    "                self.memory[mem_offset + i] = calldata_bytes[calldata_offset + i]\n",
    "\n",
    "    def codesize(self):\n",
    "        addr = self.txn.thisAddr\n",
    "        self.stack.append(len(account_db.get(addr, {}).get('code', b'')))\n",
    "\n",
    "    def codecopy(self):\n",
    "        if len(self.stack) < 3:\n",
    "            raise Exception('Stack underflow')\n",
    "\n",
    "        mem_offset = self.stack.pop()\n",
    "        code_offset = self.stack.pop()\n",
    "        length = self.stack.pop()\n",
    "\n",
    "        # 获取当前地址的code\n",
    "        addr = self.txn.thisAddr\n",
    "        code = account_db.get(addr, {}).get('code', b'')\n",
    "\n",
    "        # 拓展内存\n",
    "        if len(self.memory) < mem_offset + length:\n",
    "            self.memory.extend([0] * (mem_offset + length - len(self.memory)))\n",
    "\n",
    "        # 将代码复制到内存\n",
    "        for i in range(length):\n",
    "            if code_offset + i < len(code):\n",
    "                self.memory[mem_offset + i] = code[code_offset + i]\n",
    "            \n",
    "    def gasprice(self):\n",
    "        self.stack.append(self.txn.gasPrice)\n",
    "\n",
    "    def log(self, num_topics):\n",
    "        if len(self.stack) < 2 + num_topics:\n",
    "            raise Exception('Stack underflow')\n",
    "\n",
    "        mem_offset = self.stack.pop()\n",
    "        length = self.stack.pop()\n",
    "        topics = [self.stack.pop() for _ in range(num_topics)]\n",
    "\n",
    "        data = self.memory[mem_offset:mem_offset + length]\n",
    "        log_entry = {\n",
    "            \"address\": self.txn.thisAddr,\n",
    "            \"data\": data.hex(),\n",
    "            \"topics\": [f\"0x{topic:064x}\" for topic in topics]\n",
    "        }\n",
    "        self.logs.append(log_entry)\n",
    "\n",
    "    def return_op(self):\n",
    "        if len(self.stack) < 2:\n",
    "            raise Exception('Stack underflow')\n",
    "\n",
    "        mem_offset = self.stack.pop()\n",
    "        length = self.stack.pop()\n",
    "\n",
    "        # 拓展内存\n",
    "        if len(self.memory) < mem_offset + length:\n",
    "            self.memory.extend([0] * (mem_offset + length - len(self.memory)))\n",
    "\n",
    "        self.returnData = self.memory[mem_offset:mem_offset + length]      \n",
    "\n",
    "    def returndatasize(self):\n",
    "        self.stack.append(len(self.returnData))\n",
    "\n",
    "    def returndatacopy(self):\n",
    "        if len(self.stack) < 3:\n",
    "            raise Exception('Stack underflow')\n",
    "\n",
    "        mem_offset = self.stack.pop()\n",
    "        return_offset = self.stack.pop()\n",
    "        length = self.stack.pop()\n",
    "\n",
    "        if return_offset + length > len(self.returnData):\n",
    "            raise Exception(\"Invalid returndata size\")\n",
    "\n",
    "        # 扩展内存\n",
    "        if len(self.memory) < mem_offset + length:\n",
    "            self.memory.extend([0] * (mem_offset + length - len(self.memory)))\n",
    "\n",
    "        # 使用切片进行复制\n",
    "        self.memory[mem_offset:mem_offset + length] = self.returnData[return_offset:return_offset + length]\n",
    "\n",
    "\n",
    "    def call(self):\n",
    "        if len(self.stack) < 7:\n",
    "            raise Exception('Stack underflow')\n",
    "            \n",
    "        gas = self.stack.pop()\n",
    "        to_addr = self.stack.pop()\n",
    "        value = self.stack.pop()\n",
    "        mem_in_start = self.stack.pop()\n",
    "        mem_in_size = self.stack.pop()\n",
    "        mem_out_start = self.stack.pop()\n",
    "        mem_out_size = self.stack.pop()\n",
    "        \n",
    "        # 拓展内存\n",
    "        if len(self.memory) < mem_in_start + mem_in_size:\n",
    "            self.memory.extend([0] * (mem_in_start + mem_in_size - len(self.memory)))\n",
    "\n",
    "        # 从内存中获取输入数据\n",
    "        data = self.memory[mem_in_start: mem_in_start + mem_in_size]\n",
    "    \n",
    "        account_source = account_db[self.txn.caller]\n",
    "        account_target = account_db[hex(to_addr)]\n",
    "        \n",
    "        # 检查caller的余额\n",
    "        if account_source['balance'] < value:\n",
    "            self.success = False\n",
    "            print(\"Insufficient balance for the transaction!\")\n",
    "            self.stack.append(0) \n",
    "            return\n",
    "        \n",
    "        # 更新余额\n",
    "        account_source['balance'] -= value\n",
    "        account_target['balance'] += value\n",
    "        \n",
    "        # 使用txn构建上下文\n",
    "        ctx = Transaction(to=hex(to_addr), \n",
    "                          data=data,\n",
    "                          value=value,\n",
    "                          caller=self.txn.thisAddr, \n",
    "                          origin=self.txn.origin, \n",
    "                          thisAddr=hex(to_addr), \n",
    "                          gasPrice=self.txn.gasPrice, \n",
    "                          gasLimit=self.txn.gasLimit, \n",
    "                         )\n",
    "        \n",
    "        # 创建evm子环境\n",
    "        evm_call = EVM(account_target['code'], ctx)\n",
    "        evm_call.run()\n",
    "        \n",
    "        # 拓展内存\n",
    "        if len(self.memory) < mem_out_start + mem_out_size:\n",
    "            self.memory.extend([0] * (mem_out_start + mem_out_size - len(self.memory)))\n",
    "        \n",
    "        self.memory[mem_out_start: mem_out_start + mem_out_size] = evm_call.returnData\n",
    "        \n",
    "        if evm_call.success:\n",
    "            self.stack.append(1)  \n",
    "        else:\n",
    "            self.stack.append(0)  \n",
    "\n",
    "\n",
    "    def delegatecall(self):\n",
    "        if len(self.stack) < 6:\n",
    "            raise Exception('Stack underflow')\n",
    "        \n",
    "        gas = self.stack.pop()\n",
    "        to_addr = self.stack.pop()\n",
    "        mem_in_start = self.stack.pop()\n",
    "        mem_in_size = self.stack.pop()\n",
    "        mem_out_start = self.stack.pop()\n",
    "        mem_out_size = self.stack.pop()\n",
    "        \n",
    "        # 拓展内存\n",
    "        if len(self.memory) < mem_in_start + mem_in_size:\n",
    "            self.memory.extend([0] * (mem_in_start + mem_in_size - len(self.memory)))\n",
    "\n",
    "        # 从内存中获取输入数据\n",
    "        data = self.memory[mem_in_start: mem_in_start + mem_in_size]\n",
    "    \n",
    "        account_target = account_db[hex(to_addr)]\n",
    "        \n",
    "        # 创建evm子环境，注意，这里的上下文是原始的调用合约，而不是目标合约\n",
    "        evm_delegate = EVM(account_target['code'], self.txn)\n",
    "        evm_delegate.storage = self.storage\n",
    "        # 运行代码\n",
    "        evm_delegate.run()\n",
    "        \n",
    "        # 拓展内存\n",
    "        if len(self.memory) < mem_out_start + mem_out_size:\n",
    "            self.memory.extend([0] * (mem_out_start + mem_out_size - len(self.memory)))\n",
    "        \n",
    "        self.memory[mem_out_start: mem_out_start + mem_out_size] = evm_delegate.returnData\n",
    "        \n",
    "        if evm_delegate.success:\n",
    "            self.stack.append(1)  \n",
    "        else:\n",
    "            self.stack.append(0)  \n",
    "            print(\"Delegatecall execution failed!\")\n",
    "\n",
    "\n",
    "    def callcode(self):\n",
    "        self.stack.append(0)  \n",
    "        print(\"Callcode not support!\")\n",
    "\n",
    "    def revert(self):\n",
    "        if len(self.stack) < 2:\n",
    "            raise Exception('Stack underflow')\n",
    "        mem_offset = self.stack.pop()\n",
    "        length = self.stack.pop()\n",
    "\n",
    "        # 拓展内存\n",
    "        if len(self.memory) < mem_offset + length:\n",
    "            self.memory.extend([0] * (mem_offset + length - len(self.memory)))\n",
    "\n",
    "        self.returnData = self.memory[mem_offset:mem_offset+length]\n",
    "        self.success = False\n",
    " \n",
    "    def invalid(self):\n",
    "        self.success = False\n",
    "\n",
    "    def run(self):\n",
    "        while self.pc < len(self.code) and self.success:\n",
    "            op = self.next_instruction()\n",
    "\n",
    "            if PUSH1 <= op <= PUSH32: # 如果为PUSH1-PUSH32\n",
    "                size = op - PUSH1 + 1\n",
    "                self.push(size)\n",
    "            elif op == PUSH0: # 如果为PUSH0\n",
    "                self.stack.append(0)\n",
    "            elif DUP1 <= op <= DUP16: # 如果是DUP1-DUP16\n",
    "                position = op - DUP1 + 1\n",
    "                self.dup(position)\n",
    "            elif SWAP1 <= op <= SWAP16: # 如果是SWAP1-SWAP16\n",
    "                position = op - SWAP1 + 1\n",
    "                self.swap(position)\n",
    "            elif op == POP: # 如果为POP\n",
    "                self.pop()\n",
    "            elif op == ADD: # 处理ADD指令\n",
    "                self.add()\n",
    "            elif op == MUL: # 处理MUL指令\n",
    "                self.mul()\n",
    "            elif op == SUB: # 处理SUB指令\n",
    "                self.sub()\n",
    "            elif op == DIV: # 处理DIV指令\n",
    "                self.div()\n",
    "            elif op == SDIV:\n",
    "                self.sdiv()\n",
    "            elif op == MOD:\n",
    "                self.mod()\n",
    "            elif op == SMOD:\n",
    "                self.smod()\n",
    "            elif op == ADDMOD:\n",
    "                self.addmod()\n",
    "            elif op == MULMOD:\n",
    "                self.mulmod()\n",
    "            elif op == EXP:\n",
    "                self.exp()\n",
    "            elif op == SIGNEXTEND:\n",
    "                self.signextend()\n",
    "            elif op == LT:\n",
    "                self.lt()\n",
    "            elif op == GT:\n",
    "                self.gt()\n",
    "            elif op == SLT:\n",
    "                self.slt()\n",
    "            elif op == SGT:\n",
    "                self.sgt()\n",
    "            elif op == EQ:\n",
    "                self.eq()\n",
    "            elif op == ISZERO:\n",
    "                self.iszero()\n",
    "            elif op == AND:  # 处理AND指令\n",
    "                self.and_op()\n",
    "            elif op == OR:  # 处理AND指令\n",
    "                self.or_op()\n",
    "            elif op == XOR:  # 处理AND指令\n",
    "                self.xor_op()\n",
    "            elif op == NOT:  # 处理AND指令\n",
    "                self.not_op()\n",
    "            elif op == BYTE:  # 处理AND指令\n",
    "                self.byte_op()\n",
    "            elif op == SHL:  # 处理AND指令\n",
    "                self.shl()\n",
    "            elif op == SHR:  # 处理AND指令\n",
    "                self.shr()\n",
    "            elif op == SAR:  # 处理AND指令\n",
    "                self.sar()\n",
    "            elif op == MLOAD: # 处理MLOAD指令\n",
    "                self.mload()\n",
    "            elif op == MSTORE: # 处理MSTORE指令\n",
    "                self.mstore()\n",
    "            elif op == MSTORE8: # 处理MSTORE8指令\n",
    "                self.mstore8()\n",
    "            elif op == SLOAD: \n",
    "                self.sload()\n",
    "            elif op == SSTORE: # 处理SSTORE指令\n",
    "                self.sstore()\n",
    "            elif op == MSIZE: # 处理MSIZE指令\n",
    "                self.msize()\n",
    "            elif op == JUMP: \n",
    "                self.jump()\n",
    "            elif op == JUMPDEST: \n",
    "                self.jumpdest()\n",
    "            elif op == JUMPI: \n",
    "                self.jumpi()\n",
    "            elif op == STOP: # 处理STOP指令\n",
    "                print('Program has been stopped')\n",
    "                break\n",
    "            elif op == PC:\n",
    "                self.pc()\n",
    "            elif op == BLOCKHASH:\n",
    "                self.blockhash()\n",
    "            elif op == COINBASE:\n",
    "                self.coinbase()\n",
    "            elif op == TIMESTAMP:\n",
    "                self.timestamp()\n",
    "            elif op == NUMBER:\n",
    "                self.number()\n",
    "            elif op == PREVRANDAO:\n",
    "                self.prevrandao()\n",
    "            elif op == GASLIMIT:\n",
    "                self.gaslimit()\n",
    "            elif op == CHAINID:\n",
    "                self.chainid()\n",
    "            elif op == SELFBALANCE:\n",
    "                self.selfbalance()\n",
    "            elif op == BASEFEE:\n",
    "                self.basefee()        \n",
    "            elif op == SHA3: # 如果为SHA3\n",
    "                self.sha3()\n",
    "            elif op == BALANCE: \n",
    "                self.balance()\n",
    "            elif op == EXTCODESIZE: \n",
    "                self.extcodesize()\n",
    "            elif op == EXTCODECOPY: \n",
    "                self.extcodecopy()\n",
    "            elif op == EXTCODEHASH: \n",
    "                self.extcodehash()\n",
    "            elif op == ADDRESS: \n",
    "                self.address()\n",
    "            elif op == ORIGIN: \n",
    "                self.origin()\n",
    "            elif op == CALLER: \n",
    "                self.caller()\n",
    "            elif op == CALLVALUE: \n",
    "                self.callvalue()\n",
    "            elif op == CALLDATALOAD: \n",
    "                self.calldataload()\n",
    "            elif op == CALLDATASIZE: \n",
    "                self.calldatasize()\n",
    "            elif op == CALLDATACOPY: \n",
    "                self.calldatacopy()\n",
    "            elif op == CODESIZE: \n",
    "                self.codesize()\n",
    "            elif op == CODECOPY: \n",
    "                self.codecopy()\n",
    "            elif op == GASPRICE: \n",
    "                self.gasprice()\n",
    "            elif op == EXTCODEHASH: \n",
    "                self.extcodehash()\n",
    "            elif op == LOG0:\n",
    "                self.log(0)\n",
    "            elif op == LOG1:\n",
    "                self.log(1)\n",
    "            elif op == LOG2:\n",
    "                self.log(2)\n",
    "            elif op == LOG3:\n",
    "                self.log(3)\n",
    "            elif op == LOG4:\n",
    "                self.log(4)\n",
    "            elif op == RETURN:\n",
    "                self.return_op()\n",
    "            elif op == RETURNDATASIZE:\n",
    "                self.returndatasize()\n",
    "            elif op == RETURNDATACOPY:\n",
    "                self.returndatacopy()\n",
    "            elif op == RETURNDATACOPY:\n",
    "                self.returndatacopy()\n",
    "            elif op == REVERT:\n",
    "                self.revert() \n",
    "            elif op == CALL:\n",
    "                self.call()                       \n",
    "            elif op == CALLCODE:\n",
    "                self.callcode()            \n",
    "            elif op == DELEGATECALL:\n",
    "                self.delegatecall()            \n",
    "\n",
    "            else:\n",
    "                self.invalid()\n",
    "                raise Exception('Invalid opcode')\n"
   ]
  },
  {
   "cell_type": "code",
   "execution_count": 39,
   "metadata": {},
   "outputs": [],
   "source": [
    "# Define Txn\n",
    "addr = '0x9bbfed6889322e016e0a02ee459d306fc19545d8'\n",
    "txn = Transaction(to=addr, value=10, data='0x9059cbb20000000000000000000000009bbfed6889322e016e0a02ee459d306fc19545d80000000000000000000000000000000000000000000000000000000000000001', \n",
    "                  caller=addr, origin=addr, thisAddr=addr)"
   ]
  },
  {
   "cell_type": "code",
   "execution_count": 40,
   "metadata": {},
   "outputs": [
    {
     "name": "stdout",
     "output_type": "stream",
     "text": [
      "0x1\n",
      "0x42\n"
     ]
    }
   ],
   "source": [
    "# Delegatecall\n",
    "code = b\"\\x60\\x01\\x60\\x1f\\x5f\\x5f\\x73\\x10\\x00\\x00\\x00\\x00\\x00\\x00\\x00\\x00\\x00\\x00\\x00\\x00\\x00\\x00\\x00\\x00\\x00\\x0c\\x42\\x5f\\xf4\\x5f\\x51\"\n",
    "evm = EVM(code, txn)\n",
    "evm.run()\n",
    "print(hex(evm.stack[-2]))\n",
    "# output: 0x1 (success)\n",
    "print(hex(evm.stack[-1]))\n",
    "# output: 0x42"
   ]
  },
  {
   "cell_type": "code",
   "execution_count": null,
   "metadata": {},
   "outputs": [],
   "source": []
  }
 ],
 "metadata": {
  "colab": {
   "name": "Computation with NumPy and N-Dimensional Arrays (start).ipynb",
   "provenance": [],
   "toc_visible": true
  },
  "kernelspec": {
   "display_name": "Python 3 (ipykernel)",
   "language": "python",
   "name": "python3"
  },
  "language_info": {
   "codemirror_mode": {
    "name": "ipython",
    "version": 3
   },
   "file_extension": ".py",
   "mimetype": "text/x-python",
   "name": "python",
   "nbconvert_exporter": "python",
   "pygments_lexer": "ipython3",
   "version": "3.9.7"
  }
 },
 "nbformat": 4,
 "nbformat_minor": 4
}
